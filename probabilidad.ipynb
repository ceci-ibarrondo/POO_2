{
  "nbformat": 4,
  "nbformat_minor": 0,
  "metadata": {
    "colab": {
      "provenance": []
    },
    "kernelspec": {
      "name": "python3",
      "display_name": "Python 3"
    },
    "language_info": {
      "name": "python"
    }
  },
  "cells": [
    {
      "cell_type": "code",
      "source": [
        "import math\n",
        "\n",
        "class Figura:\n",
        "    def __init__(self,nombre):\n",
        "        self.nombre = nombre\n",
        "        self.area = None\n",
        "        self.perimetro = None\n",
        "\n",
        "    def calcular_area(self):\n",
        "        pass\n",
        "    def calcular_perimetro(self):\n",
        "        pass\n",
        "\n",
        "    def mostrarInfo(self):\n",
        "        self.calcular_area()\n",
        "        self.calcular_area()\n",
        "        print(f\"Nombre de la figura {self.nombre}\")\n",
        "        print(f\"Área de la figura {self.area}\")\n",
        "        print(f\"Perímetro de la figura {self.perimetro}\")\n",
        "\n",
        "class Circulo(Figura):\n",
        "    def __init__(self, nombre, radio):\n",
        "        super().__init__(nombre)\n",
        "        self.radio = radio\n",
        "\n",
        "    def calcular_area(self):\n",
        "        return math.pi * self.radio**2\n",
        "\n",
        "    def calcular_perimetro(self):\n",
        "        return 2 * math.pi * self.radio\n",
        "class Rectangulo(Figura):\n",
        "    def __init__(self, longitud, base):\n",
        "        self.longitud = longitud\n",
        "        self.base = base\n",
        "    def calcular_area(self):\n",
        "        return self.longitud * self.base\n",
        "    def calcular_perimetro(self):\n",
        "        return 2 * (self.longitud + self.base)\n",
        "\n",
        "class Triangulo(Figura):\n",
        "    def __init__(self, base, altura, lado1, lado2, lado3):\n",
        "        self.base = base\n",
        "        self.altura = altura\n",
        "        self.lado1 = lado1\n",
        "        self.lado2 = lado2\n",
        "        self.lado3 = lado3\n",
        "\n",
        "    def calcular_area(self):\n",
        "        return 0.5 * self.base * self.altura\n",
        "    def calcular_perimetro(self):\n",
        "        return self.lado1 + self.lado2 + self.lado3\n",
        "\n",
        ""
      ],
      "metadata": {
        "id": "7NIw4fNVdpFg"
      },
      "execution_count": null,
      "outputs": []
    },
    {
      "cell_type": "code",
      "source": [
        "import Figures\n",
        "form Figures import *"
      ],
      "metadata": {
        "id": "D7tdmL-QeVd3"
      },
      "execution_count": null,
      "outputs": []
    },
    {
      "cell_type": "code",
      "source": [
        "fig_1 = Figura(\"Circulo\")\n",
        "ciculo = Circulo(\"circulo\", 2)\n",
        "circulo"
      ],
      "metadata": {
        "id": "d1Cxfe3BeehG"
      },
      "execution_count": null,
      "outputs": []
    },
    {
      "cell_type": "code",
      "source": [
        "circulo.calcular_area()"
      ],
      "metadata": {
        "id": "AUZKVon2e5c-"
      },
      "execution_count": null,
      "outputs": []
    }
  ]
}